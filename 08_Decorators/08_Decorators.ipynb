{
 "cells": [
  {
   "cell_type": "markdown",
   "metadata": {},
   "source": [
    "# 08_Decorators\n",
    "\n",
    "\n",
    "In Python, a decorator is a function that takes another function as an argument and extends its behavior without explicitly modifying the original function's code. It's a way to wrap a function with additional functionality\n",
    "\n",
    "**Key points:**\n",
    "- Decorators are denoted with the @ symbol, followed by the decorator function name.\n",
    "\n",
    "- Decorators are often used for:\n",
    "\n",
    "    - **Logging:** Adding logging statements around a function call.\n",
    "\n",
    "    - **Timing:** Measuring the execution time of a function.\n",
    "\n",
    "    - **Authentication:** Checking if a user has the required permissions to execute a function.\n",
    "\n",
    "    - **Caching:** Storing the results of a function call to avoid redundant computation.\n",
    "\n",
    "- Decorators can take arguments, which allows you to customize their behavior.\n",
    "\n",
    "- The functools.wraps decorator is often used to preserve the metadata of the original function."
   ]
  },
  {
   "cell_type": "markdown",
   "metadata": {},
   "source": [
    "\n",
    "1. [Problem 1: Timing Function Execution](#1)\n",
    "2. [Problem 2: Debugging Function Calls](#2)\n",
    "3. [Problem 3: Cache Return Values](#3)\n"
   ]
  },
  {
   "cell_type": "markdown",
   "metadata": {},
   "source": [
    "<a name = '1'></a>\n",
    "### Problem 1: Timing Function Execution\n",
    "- Write a decorator that measures the time function takes to execute"
   ]
  },
  {
   "cell_type": "code",
   "execution_count": null,
   "metadata": {},
   "outputs": [],
   "source": []
  },
  {
   "cell_type": "code",
   "execution_count": null,
   "metadata": {},
   "outputs": [],
   "source": []
  },
  {
   "cell_type": "code",
   "execution_count": null,
   "metadata": {},
   "outputs": [],
   "source": []
  },
  {
   "cell_type": "code",
   "execution_count": null,
   "metadata": {},
   "outputs": [],
   "source": []
  },
  {
   "cell_type": "markdown",
   "metadata": {},
   "source": [
    "<a name = '2'></a>\n",
    "### Problem 2: Debugging Function Calls"
   ]
  },
  {
   "cell_type": "code",
   "execution_count": null,
   "metadata": {},
   "outputs": [],
   "source": []
  },
  {
   "cell_type": "markdown",
   "metadata": {},
   "source": [
    "<a name = '3'></a>\n",
    "### Problem 3: Cache Return Values"
   ]
  },
  {
   "cell_type": "code",
   "execution_count": null,
   "metadata": {},
   "outputs": [],
   "source": []
  },
  {
   "cell_type": "code",
   "execution_count": null,
   "metadata": {},
   "outputs": [],
   "source": []
  },
  {
   "cell_type": "code",
   "execution_count": null,
   "metadata": {},
   "outputs": [],
   "source": []
  },
  {
   "cell_type": "code",
   "execution_count": null,
   "metadata": {},
   "outputs": [],
   "source": []
  }
 ],
 "metadata": {
  "language_info": {
   "name": "python"
  }
 },
 "nbformat": 4,
 "nbformat_minor": 2
}
