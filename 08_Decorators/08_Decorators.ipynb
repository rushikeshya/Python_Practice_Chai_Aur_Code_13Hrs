{
 "cells": [
  {
   "cell_type": "markdown",
   "metadata": {},
   "source": [
    "# 08_Decorators\n",
    "\n",
    "\n",
    "In Python, a decorator is a function that takes another function as an argument and extends its behavior without explicitly modifying the original function's code. It's a way to wrap a function with additional functionality\n",
    "\n",
    "**Key points:**\n",
    "- Decorators are denoted with the @ symbol, followed by the decorator function name.\n",
    "\n",
    "- Decorators are often used for:\n",
    "\n",
    "    - **Logging:** Adding logging statements around a function call.\n",
    "\n",
    "    - **Timing:** Measuring the execution time of a function.\n",
    "\n",
    "    - **Authentication:** Checking if a user has the required permissions to execute a function.\n",
    "\n",
    "    - **Caching:** Storing the results of a function call to avoid redundant computation.\n",
    "\n",
    "- Decorators can take arguments, which allows you to customize their behavior.\n",
    "\n",
    "- The functools.wraps decorator is often used to preserve the metadata of the original function."
   ]
  },
  {
   "cell_type": "markdown",
   "metadata": {},
   "source": [
    "\n",
    "1. [Problem 1: Timing Function Execution](#1)\n",
    "2. [Problem 2: Debugging Function Calls](#2)\n",
    "3. [Problem 3: Cache Return Values](#3)\n"
   ]
  },
  {
   "cell_type": "markdown",
   "metadata": {},
   "source": [
    "<a name = '1'></a>\n",
    "### Problem 1: Timing Function Execution\n",
    "- Write a decorator that measures the time function takes to execute"
   ]
  },
  {
   "cell_type": "code",
   "execution_count": 14,
   "metadata": {},
   "outputs": [
    {
     "name": "stdout",
     "output_type": "stream",
     "text": [
      "example_function ran in 4.001996755599976 time\n"
     ]
    }
   ],
   "source": [
    "import time\n",
    "\n",
    "def timer(func):\n",
    "    def wrapper(*args, **kwargs):\n",
    "        start = time.time()\n",
    "        func(*args, **kwargs)\n",
    "        result = func(*args, **kwargs)\n",
    "        end = time.time()\n",
    "        print(f\"{func.__name__} ran in {end - start} time\")\n",
    "        return result\n",
    "    return wrapper\n",
    "\n",
    "\n",
    "@timer\n",
    "def example_function(n):\n",
    "    time.sleep(n)\n",
    "example_function(2)\n"
   ]
  },
  {
   "cell_type": "markdown",
   "metadata": {},
   "source": [
    "<a name=\"2\"></a>\n",
    "### Problem 2: Debugging Function Calls\n",
    "\n",
    "- Create a decorator to print the function name and the values of its arguments every time the function is called."
   ]
  },
  {
   "cell_type": "code",
   "execution_count": 18,
   "metadata": {},
   "outputs": [
    {
     "name": "stdout",
     "output_type": "stream",
     "text": [
      "calling: greet with args chai and kwargs greeting=Hello my dear\n",
      "Hello my dear, chai\n"
     ]
    }
   ],
   "source": [
    "def debug(func):\n",
    "    def wrapper(*args, **kwargs):\n",
    "        args_value = ', '.join(str(arg) for arg in args)\n",
    "        kwargs_value = ', '.join(f\"{k}={v}\" for k, v in kwargs.items())\n",
    "        print(f\"calling: {func.__name__} with args {args_value} and kwargs {kwargs_value}\")\n",
    "\n",
    "        return func(*args, **kwargs)\n",
    "\n",
    "    \n",
    "    return wrapper\n",
    "    \n",
    "@debug\n",
    "def greet(name, greeting=\"Hello !\"):\n",
    "    print(f\"{greeting}, {name}\")\n",
    "\n",
    "greet(\"chai\", greeting=\"Hello my dear\")"
   ]
  },
  {
   "cell_type": "markdown",
   "metadata": {},
   "source": [
    "<a name = '3'></a>\n",
    "### Problem 3: Cache Return Values\n",
    "\n",
    "- Implement a decorator that caches the return values of a function, so that when it's called with the same arguments, the cached value is returned insted of re-executing the function."
   ]
  },
  {
   "cell_type": "code",
   "execution_count": 27,
   "metadata": {},
   "outputs": [
    {
     "name": "stdout",
     "output_type": "stream",
     "text": [
      "{}\n",
      "5\n",
      "6\n"
     ]
    }
   ],
   "source": [
    "import time\n",
    "\n",
    "def cache(func):\n",
    "    cache_value = {}\n",
    "    print(cache_value)\n",
    "    def wraper(*args):\n",
    "        if args in cache_value:\n",
    "            return cache_value[args]\n",
    "        result = func(*args)\n",
    "        cache_value[args] = result\n",
    "        return result\n",
    "    return wraper\n",
    "@cache\n",
    "def long_running_functio(a, b):\n",
    "    return a + b\n",
    "print(long_running_functio(2,3))\n",
    "print(long_running_functio(3,3))\n"
   ]
  },
  {
   "cell_type": "code",
   "execution_count": null,
   "metadata": {},
   "outputs": [],
   "source": []
  },
  {
   "cell_type": "code",
   "execution_count": null,
   "metadata": {},
   "outputs": [],
   "source": []
  },
  {
   "cell_type": "code",
   "execution_count": null,
   "metadata": {},
   "outputs": [],
   "source": []
  },
  {
   "cell_type": "code",
   "execution_count": null,
   "metadata": {},
   "outputs": [],
   "source": []
  }
 ],
 "metadata": {
  "kernelspec": {
   "display_name": "Python 3",
   "language": "python",
   "name": "python3"
  },
  "language_info": {
   "codemirror_mode": {
    "name": "ipython",
    "version": 3
   },
   "file_extension": ".py",
   "mimetype": "text/x-python",
   "name": "python",
   "nbconvert_exporter": "python",
   "pygments_lexer": "ipython3",
   "version": "3.12.3"
  }
 },
 "nbformat": 4,
 "nbformat_minor": 2
}
