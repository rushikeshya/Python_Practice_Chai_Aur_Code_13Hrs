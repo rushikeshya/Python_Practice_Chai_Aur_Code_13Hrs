{
 "cells": [
  {
   "cell_type": "markdown",
   "metadata": {},
   "source": [
    "## 07_OOP_Object _Oriented_Programms - 02-January-2025"
   ]
  },
  {
   "cell_type": "markdown",
   "metadata": {},
   "source": [
    "1. [Basic Class and Object](#1)\n",
    "2. [Class Method and Sell](#2)\n",
    "3. [Inheritance](#3)\n",
    "4. [Encapsulation](#4)\n",
    "5. [Polymorphism](#5)\n",
    "6. [Class Variables](#6)\n",
    "7. [Static Method](#7)\n",
    "8. [Property Decorators](#8)\n",
    "9. [Class Ineritance and isinstance() Function](#9)\n",
    "10. [Multiple Inheritance](#10)"
   ]
  },
  {
   "cell_type": "markdown",
   "metadata": {},
   "source": [
    "<a name = '1'><a/>\n",
    "### 1. Basic Class and Object\n",
    "- Create a Car with attributes like brand and model. Then create an instance of this class."
   ]
  },
  {
   "cell_type": "code",
   "execution_count": 1,
   "metadata": {},
   "outputs": [
    {
     "name": "stdout",
     "output_type": "stream",
     "text": [
      "<__main__.Car object at 0x000001ED2EA80CE0>\n"
     ]
    }
   ],
   "source": [
    "class Car:\n",
    "    brand = None\n",
    "    model = None\n",
    "my_car = Car()\n",
    "print(my_car)"
   ]
  },
  {
   "cell_type": "code",
   "execution_count": 3,
   "metadata": {},
   "outputs": [
    {
     "name": "stdout",
     "output_type": "stream",
     "text": [
      "Toyoto\n"
     ]
    }
   ],
   "source": [
    "class Car:\n",
    "    def __init__(self, brand, model):\n",
    "        self.brand = brand\n",
    "        self.model = model\n",
    "my_car = Car(\"Toyoto\", \"Fortuner\")\n",
    "print(my_car.brand)"
   ]
  },
  {
   "cell_type": "code",
   "execution_count": 6,
   "metadata": {},
   "outputs": [],
   "source": [
    "my_tata_car = Car(\"Tata\", \"Harriar\")"
   ]
  },
  {
   "cell_type": "code",
   "execution_count": 7,
   "metadata": {},
   "outputs": [
    {
     "data": {
      "text/plain": [
       "'Harriar'"
      ]
     },
     "execution_count": 7,
     "metadata": {},
     "output_type": "execute_result"
    }
   ],
   "source": [
    "my_tata_car.model"
   ]
  },
  {
   "cell_type": "markdown",
   "metadata": {},
   "source": [
    "<a name = '2'><a/>\n",
    "### 2. Class Method and Self\n",
    "- Add a method to the Car class that displays the full name of the car (brand and model)."
   ]
  },
  {
   "cell_type": "code",
   "execution_count": 4,
   "metadata": {},
   "outputs": [
    {
     "name": "stdout",
     "output_type": "stream",
     "text": [
      "Toyota\n",
      "Fortuner\n",
      "Toyota Fortuner\n"
     ]
    }
   ],
   "source": [
    "class Car:\n",
    "    def __init__(self, brand, model):\n",
    "        self.brand = brand\n",
    "        self.model = model\n",
    "    # 2nd solution\n",
    "    def full_name(self):\n",
    "        return f\"{self.brand} {self.model}\"\n",
    "\n",
    "my_car = Car(\"Toyota\", \"Fortuner\")\n",
    "print(my_car.brand)\n",
    "print(my_car.model)\n",
    "\n",
    "print(my_car.full_name())"
   ]
  },
  {
   "cell_type": "markdown",
   "metadata": {},
   "source": [
    "<a name = '3'><a/>\n",
    "### 3. Inheritance\n",
    "- Create an ElectricCar class that inherits from the Car class and has an additional attribute battery_size."
   ]
  },
  {
   "cell_type": "code",
   "execution_count": 8,
   "metadata": {},
   "outputs": [
    {
     "name": "stdout",
     "output_type": "stream",
     "text": [
      "Tesla Model S 85kWh\n",
      "Tesla Model S\n"
     ]
    }
   ],
   "source": [
    "class Car():\n",
    "    def __init__(self, brand, model):\n",
    "        self.brand = brand\n",
    "        self.model = model\n",
    "    def full_name(self):\n",
    "        return f\"{self.brand} {self.model}\"\n",
    "# Inherirance\n",
    "class ElectricCar(Car):\n",
    "    def __init__(self, brand, model, battery_size):\n",
    "        super().__init__(brand,model)\n",
    "        self.battery_size = battery_size\n",
    "\n",
    "\n",
    "my_tesla = ElectricCar(\"Tesla\", \"Model S\", \"85kWh\")\n",
    "# my_car = Car(\"Toyota\", \"Fortuner\")\n",
    "\n",
    "# print(my_car.brand)\n",
    "# print(my_car.model)\n",
    "# print(my_car.full_name())\n",
    "print(my_tesla.brand,my_tesla.model, my_tesla.battery_size)\n",
    "print(my_tesla.full_name())"
   ]
  },
  {
   "cell_type": "markdown",
   "metadata": {},
   "source": [
    "<a name = '4'><a/>\n",
    "### 4. Encapsulation\n",
    "- Modify the Car class to encapsulate the brand attribute, making it private, and provide a getter method for it."
   ]
  },
  {
   "cell_type": "code",
   "execution_count": 7,
   "metadata": {},
   "outputs": [
    {
     "name": "stdout",
     "output_type": "stream",
     "text": [
      "Brand Name is: Tesla and model name is: Model S\n",
      "\n",
      "80kWh\n",
      "Tesla !\n"
     ]
    }
   ],
   "source": [
    "class Car:\n",
    "    def __init__(self, brand, model):\n",
    "        self.__brand = brand\n",
    "        self.model = model\n",
    "    def full_name(self):\n",
    "        return f\"Brand Name is: {self.__brand} and model name is: {self.model}\"\n",
    "    \n",
    "    # Encapsulation (__ for Privet)\n",
    "    def get_brand(self):\n",
    "        return self.__brand + \" !\"\n",
    "\n",
    "# Inheritance\n",
    "class ElectricCar(Car):\n",
    "    def __init__(self, brand, model, battery_size):\n",
    "        super().__init__(brand, model)\n",
    "        self.battery_size = battery_size\n",
    "\n",
    "\n",
    "\n",
    "my_tesla = ElectricCar(\"Tesla\", \"Model S\", \"80kWh\")\n",
    "\n",
    "\n",
    "print(my_tesla.full_name() + \"\\n\") \n",
    "print(my_tesla.battery_size)\n",
    "print(my_tesla.get_brand())"
   ]
  },
  {
   "cell_type": "markdown",
   "metadata": {},
   "source": [
    "<a name = '5'><a/>\n",
    "### 5. Polymorphism\n",
    "- Demonstrate polymorphism by defining a method fuel_type in both Car and ElectricCar classes, but with different behaviors."
   ]
  },
  {
   "cell_type": "code",
   "execution_count": 20,
   "metadata": {},
   "outputs": [
    {
     "name": "stdout",
     "output_type": "stream",
     "text": [
      "Petrol or Disel\n"
     ]
    }
   ],
   "source": [
    "class Car:\n",
    "    def __init__(self, brand, model):\n",
    "        self.__brand = brand\n",
    "        self.model = model\n",
    "    def full_name(self):\n",
    "        return f\"This is brand: {self.__brand}. and this is model: {self.model}\"\n",
    "    ## Encapsulation\n",
    "    def get_brand(self):\n",
    "        return self.__brand + \"!...Getter + Encapsulation\"\n",
    "    ## Polymorphism\n",
    "    def fuel_type(self):\n",
    "        return \"Petrol or Disel\"\n",
    "\n",
    "## Inheritence\n",
    "class ElectricCar(Car):\n",
    "    def __init__(self, brand, model, battery_size):\n",
    "        super().__init__(brand, model)\n",
    "        self.battery_size = battery_size\n",
    "    def fuel_type(self):\n",
    "        return \"Electric Charge\"\n",
    "\n",
    "my_car = Car(\"Toyota\", \"Fortuner\")\n",
    "My_ElectricCar = ElectricCar(\"Tesla\", \"Model S\", \"80kWh\")\n",
    "safari = Car(\"TATA\", \"Safari\")\n",
    "print(safari.fuel_type())\n",
    "\n",
    "# print(my_car.get_brand())\n",
    "# print(My_ElectricCar.get_brand())\n",
    "# print(My_ElectricCar.full_name())\n",
    "\n",
    "# print(my_car.fuel_type())\n",
    "# print(My_ElectricCar.fuel_type())\n",
    "\n",
    "\n"
   ]
  },
  {
   "cell_type": "markdown",
   "metadata": {},
   "source": [
    "<a name = '6'><a/>\n",
    "### 6. Class Varibles\n",
    "- Add a class variable to Car that keeps track of the number of cars created"
   ]
  },
  {
   "cell_type": "code",
   "execution_count": 18,
   "metadata": {},
   "outputs": [
    {
     "name": "stdout",
     "output_type": "stream",
     "text": [
      "Petrol or Disel\n",
      "3\n"
     ]
    }
   ],
   "source": [
    "class Car:\n",
    "    total_car = 0\n",
    "\n",
    "\n",
    "    def __init__(self, brand, model):\n",
    "        self.__brand = brand\n",
    "        self.model = model\n",
    "        Car.total_car += 1\n",
    "    def full_name(self):\n",
    "        return f\"This is brand: {self.__brand}. and this is model: {self.model}\"\n",
    "    ## Encapsulation\n",
    "    def get_brand(self):\n",
    "        return self.__brand + \"!...Getter + Encapsulation\"\n",
    "    ## Polymorphism\n",
    "    def fuel_type(self):\n",
    "        return \"Petrol or Disel\"\n",
    "\n",
    "\n",
    "## Inheritence\n",
    "class ElectricCar(Car):\n",
    "    def __init__(self, brand, model, battery_size):\n",
    "        super().__init__(brand, model)\n",
    "        self.battery_size = battery_size\n",
    "    def fuel_type(self):\n",
    "        return \"Electric Charge\"\n",
    "\n",
    "my_car = Car(\"Toyota\", \"Fortuner\")\n",
    "My_ElectricCar = ElectricCar(\"Tesla\", \"Model S\", \"80kWh\")\n",
    "safari = Car(\"TATA\", \"Safari\")\n",
    "print(safari.fuel_type())\n",
    "\n",
    "# print(my_car.get_brand())\n",
    "# print(My_ElectricCar.get_brand())\n",
    "# print(My_ElectricCar.full_name())\n",
    "\n",
    "# print(my_car.fuel_type())\n",
    "# print(My_ElectricCar.fuel_type())\n",
    "\n",
    "print(Car.total_car)\n",
    "\n"
   ]
  },
  {
   "cell_type": "markdown",
   "metadata": {},
   "source": [
    "<a name = '7'><a/>\n",
    "### . Static Method\n",
    "- Add a static method to that returns a general description of a car."
   ]
  },
  {
   "cell_type": "code",
   "execution_count": 30,
   "metadata": {},
   "outputs": [
    {
     "name": "stdout",
     "output_type": "stream",
     "text": [
      "Petrol or Disel\n",
      "3\n",
      "All Cars are ready for yours Ride!\n"
     ]
    }
   ],
   "source": [
    "class Car:\n",
    "    total_car = 0\n",
    "\n",
    "\n",
    "    def __init__(self, brand, model):\n",
    "        self.__brand = brand\n",
    "        self.model = model\n",
    "        Car.total_car += 1\n",
    "    def full_name(self):\n",
    "        return f\"This is brand: {self.__brand}. and this is model: {self.model}\"\n",
    "    ## Encapsulation\n",
    "    def get_brand(self):\n",
    "        return self.__brand + \"!...Getter + Encapsulation\"\n",
    "    ## Polymorphism\n",
    "    def fuel_type(self):\n",
    "        return \"Petrol or Disel\"\n",
    "    \n",
    "    ## Decorator\n",
    "    @staticmethod\n",
    "    def general_description():    # If we can use staticmethod, then did't need of self\n",
    "        return \"All Cars are ready for yours Ride!\"\n",
    "\n",
    "\n",
    "\n",
    "## Inheritence\n",
    "class ElectricCar(Car):\n",
    "    def __init__(self, brand, model, battery_size):\n",
    "        super().__init__(brand, model)\n",
    "        self.battery_size = battery_size\n",
    "    def fuel_type(self):\n",
    "        return \"Electric Charge\"\n",
    "\n",
    "my_car = Car(\"Toyota\", \"Fortuner\")\n",
    "My_ElectricCar = ElectricCar(\"Tesla\", \"Model S\", \"80kWh\")\n",
    "safari = Car(\"TATA\", \"Safari\")\n",
    "print(safari.fuel_type())\n",
    "\n",
    "# print(my_car.get_brand())\n",
    "# print(My_ElectricCar.get_brand())\n",
    "# print(My_ElectricCar.full_name())\n",
    "\n",
    "# print(my_car.fuel_type())\n",
    "# print(My_ElectricCar.fuel_type())\n",
    "\n",
    "print(Car.total_car)\n",
    "#print(my_car.general_description())\n",
    "print(Car.general_description())      ## Static Method Printing\n"
   ]
  },
  {
   "cell_type": "markdown",
   "metadata": {},
   "source": [
    "<a name = '8'><a/>\n",
    "### 8. Property Decorators\n",
    "- Use a property decorator in the Car class to make the model attribute read-only."
   ]
  },
  {
   "cell_type": "code",
   "execution_count": 52,
   "metadata": {},
   "outputs": [
    {
     "name": "stdout",
     "output_type": "stream",
     "text": [
      "Fortuner\n",
      "This is brand: Tesla. and this is model: Model S\n"
     ]
    }
   ],
   "source": [
    "class Car:\n",
    "    total_car = 0\n",
    "\n",
    "\n",
    "    def __init__(self, brand, model):\n",
    "        self.__brand = brand\n",
    "        self.__model = model\n",
    "        Car.total_car += 1\n",
    "    def full_name(self):\n",
    "        return f\"This is brand: {self.__brand}. and this is model: {self.__model}\"\n",
    "    ## Encapsulation\n",
    "    def get_brand(self):\n",
    "        return self.__brand + \"!...Getter + Encapsulation\"\n",
    "    ## Polymorphism\n",
    "    def fuel_type(self):\n",
    "        return \"Petrol or Disel\"\n",
    "    \n",
    "    ## Decorator\n",
    "    @staticmethod\n",
    "    def general_description():    # If we can use staticmethod, then did't need of self\n",
    "        return \"All Cars are ready for yours Ride!\"\n",
    "\n",
    "    ## 08 Solution\n",
    "    @property\n",
    "    def model(self):\n",
    "        return self.__model\n",
    "\n",
    "\n",
    "## Inheritence\n",
    "class ElectricCar(Car):\n",
    "    def __init__(self, brand, model, battery_size):\n",
    "        super().__init__(brand, model)\n",
    "        self.battery_size = battery_size\n",
    "    def fuel_type(self):\n",
    "        return \"Electric Charge\"\n",
    "\n",
    "my_car = Car(\"Toyota\", \"Fortuner\")\n",
    "My_ElectricCar = ElectricCar(\"Tesla\", \"Model S\", \"80kWh\")\n",
    "safari = Car(\"TATA\", \"Safari\")\n",
    "# my_car.model = \"fortuner\"\n",
    "\n",
    "#print(safari.fuel_type())\n",
    "\n",
    "print(my_car.model)\n",
    "# print(My_ElectricCar.__brand)\n",
    "print(My_ElectricCar.full_name())\n",
    "\n",
    "# print(my_car.fuel_type())\n",
    "# print(My_ElectricCar.fuel_type())\n",
    "\n",
    "# print(Car.total_car)\n",
    "# print(my_car.general_description())\n",
    "# print(Car.general_description())      ## Static Method Printing\n"
   ]
  },
  {
   "cell_type": "markdown",
   "metadata": {},
   "source": [
    "<a name = '9'><a/>\n",
    "### 9. Class Inheritance and isinstance() Function\n",
    "- Demonstrate the use of isinstance() to check if My_ElectricCar is an instance of Car and ElectricCar."
   ]
  },
  {
   "cell_type": "code",
   "execution_count": 59,
   "metadata": {},
   "outputs": [
    {
     "name": "stdout",
     "output_type": "stream",
     "text": [
      "This is brand: Tesla. and this is model: Model S\n",
      "Is Car Class Instance:  True\n",
      "Is ElectricCar Class Instance:  True\n"
     ]
    }
   ],
   "source": [
    "class Car:\n",
    "    total_car = 0\n",
    "\n",
    "\n",
    "    def __init__(self, brand, model):\n",
    "        self.__brand = brand\n",
    "        self.__model = model\n",
    "        Car.total_car += 1\n",
    "    def full_name(self):\n",
    "        return f\"This is brand: {self.__brand}. and this is model: {self.__model}\"\n",
    "    ## Encapsulation\n",
    "    def get_brand(self):\n",
    "        return self.__brand + \"!...Getter + Encapsulation\"\n",
    "    ## Polymorphism\n",
    "    def fuel_type(self):\n",
    "        return \"Petrol or Disel\"\n",
    "    \n",
    "    ## Decorator\n",
    "    @staticmethod\n",
    "    def general_description():    # If we can use staticmethod, then did't need of self\n",
    "        return \"All Cars are ready for yours Ride!\"\n",
    "\n",
    "    ## 08 Solution\n",
    "    @property\n",
    "    def model(self):\n",
    "        return self.__model\n",
    "\n",
    "\n",
    "## Inheritence\n",
    "class ElectricCar(Car):\n",
    "    def __init__(self, brand, model, battery_size):\n",
    "        super().__init__(brand, model)\n",
    "        self.battery_size = battery_size\n",
    "    def fuel_type(self):\n",
    "        return \"Electric Charge\"\n",
    "\n",
    "my_car = Car(\"Toyota\", \"Fortuner\")\n",
    "My_ElectricCar = ElectricCar(\"Tesla\", \"Model S\", \"80kWh\")\n",
    "safari = Car(\"TATA\", \"Safari\")\n",
    "\n",
    "\n",
    "\n",
    "print(My_ElectricCar.full_name())\n",
    "print(\"Is Car Class Instance: \", isinstance(My_ElectricCar, Car))\n",
    "print(\"Is ElectricCar Class Instance: \",isinstance(My_ElectricCar, ElectricCar))\n",
    "\n",
    "# my_car.model = \"fortuner\"\n",
    "\n",
    "#print(safari.fuel_type())\n",
    "\n",
    "# print(my_car.model)\n",
    "## print(My_ElectricCar.__brand)\n",
    "\n",
    "\n",
    "# print(my_car.fuel_type())\n",
    "# print(My_ElectricCar.fuel_type())\n",
    "\n",
    "# print(Car.total_car)\n",
    "# print(my_car.general_description())\n",
    "# print(Car.general_description())      ## Static Method Printing\n"
   ]
  },
  {
   "cell_type": "markdown",
   "metadata": {},
   "source": [
    "<a name = '10'><a/>\n",
    "### 10. Multiple Inheritance\n",
    "- Create two classes \"Battery\" and \"Engine\", and let the ElectricCar class inherit from both, Demonstating multiple inheritance."
   ]
  },
  {
   "cell_type": "code",
   "execution_count": 64,
   "metadata": {},
   "outputs": [
    {
     "name": "stdout",
     "output_type": "stream",
     "text": [
      "This is engine.\n",
      "This is battery.\n"
     ]
    }
   ],
   "source": [
    "class Car:\n",
    "    total_car = 0\n",
    "\n",
    "\n",
    "    def __init__(self, brand, model):\n",
    "        self.__brand = brand\n",
    "        self.__model = model\n",
    "        Car.total_car += 1\n",
    "    def full_name(self):\n",
    "        return f\"This is brand: {self.__brand}. and this is model: {self.__model}\"\n",
    "    ## Encapsulation\n",
    "    def get_brand(self):\n",
    "        return self.__brand + \"!...Getter + Encapsulation\"\n",
    "    ## Polymorphism\n",
    "    def fuel_type(self):\n",
    "        return \"Petrol or Disel\"\n",
    "    \n",
    "    ## Decorator\n",
    "    @staticmethod\n",
    "    def general_description():    # If we can use staticmethod, then did't need of self\n",
    "        return \"All Cars are ready for yours Ride!\"\n",
    "\n",
    "    ## 08 Solution\n",
    "    @property\n",
    "    def model(self):\n",
    "        return self.__model\n",
    "\n",
    "\n",
    "## Inheritence\n",
    "class ElectricCar(Car):\n",
    "    def __init__(self, brand, model, battery_size):\n",
    "        super().__init__(brand, model)\n",
    "        self.battery_size = battery_size\n",
    "    def fuel_type(self):\n",
    "        return \"Electric Charge\"\n",
    "    \n",
    "\n",
    "my_car = Car(\"Toyota\", \"Fortuner\")\n",
    "My_ElectricCar = ElectricCar(\"Tesla\", \"Model S\", \"80kWh\")\n",
    "safari = Car(\"TATA\", \"Safari\")\n",
    "\n",
    "\n",
    "\n",
    "# print(My_ElectricCar.full_name())\n",
    "# print(\"Is Car Class Instance: \", isinstance(My_ElectricCar, Car))\n",
    "# print(\"Is ElectricCar Class Instance: \",isinstance(My_ElectricCar, ElectricCar))\n",
    "\n",
    "# my_car.model = \"fortuner\"\n",
    "\n",
    "#print(safari.fuel_type())\n",
    "\n",
    "# print(my_car.model)\n",
    "## print(My_ElectricCar.__brand)\n",
    "\n",
    "\n",
    "# print(my_car.fuel_type())\n",
    "# print(My_ElectricCar.fuel_type())\n",
    "\n",
    "# print(Car.total_car)\n",
    "# print(my_car.general_description())\n",
    "# print(Car.general_description())      ## Static Method Printing\n",
    "\n",
    "\n",
    "## Multiple Inheritance\n",
    "class Battery:\n",
    "    def battery_info(self):\n",
    "        return \"This is battery.\"\n",
    "class Engine:\n",
    "    def engine_info(self):\n",
    "        return \"This is engine.\"\n",
    "class ElectricCarTwo(Battery, Engine, Car):\n",
    "    pass\n",
    "\n",
    "my_new_tesla = ElectricCarTwo(\"Tesla\", \"Model-S\")\n",
    "\n",
    "print(my_new_tesla.engine_info())\n",
    "print(my_new_tesla.battery_info())"
   ]
  },
  {
   "cell_type": "code",
   "execution_count": null,
   "metadata": {},
   "outputs": [],
   "source": []
  }
 ],
 "metadata": {
  "kernelspec": {
   "display_name": "Python 3",
   "language": "python",
   "name": "python3"
  },
  "language_info": {
   "codemirror_mode": {
    "name": "ipython",
    "version": 3
   },
   "file_extension": ".py",
   "mimetype": "text/x-python",
   "name": "python",
   "nbconvert_exporter": "python",
   "pygments_lexer": "ipython3",
   "version": "3.12.3"
  }
 },
 "nbformat": 4,
 "nbformat_minor": 2
}
