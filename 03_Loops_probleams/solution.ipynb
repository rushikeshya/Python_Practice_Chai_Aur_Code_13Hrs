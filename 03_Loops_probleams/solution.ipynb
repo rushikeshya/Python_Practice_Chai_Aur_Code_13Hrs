{
 "cells": [
  {
   "cell_type": "markdown",
   "metadata": {},
   "source": [
    "# Loops in Statements (for, while) - 31-12-2024"
   ]
  },
  {
   "cell_type": "markdown",
   "metadata": {},
   "source": [
    "1. [Counting Positive Numbers](#1)\n",
    "2. [Sum of Even Numbers](#2)\n",
    "3. [Multiplication Table Printer](#3)\n",
    "4. [Reverse a String](#4)\n",
    "5. [Find the First Non-Repeted Character](#5)\n",
    "6. [Factorial Calculator](#6)\n",
    "7. [Validate Input](#7)\n",
    "8. [Prime Number Checker](#8)\n",
    "9. [List Uniqueness Checker](#9)\n",
    "10. [Exponential Backoff](#10)\n"
   ]
  },
  {
   "cell_type": "markdown",
   "metadata": {},
   "source": [
    "<a name=\"1\"></a>\n",
    "## 1. Counting Positive Numbers \n",
    "- Given a list of numbers, count how many are positive.\n",
    "numbers = [1, -2, 3, -4, 5, 6, -7, -8, 9, 10]"
   ]
  },
  {
   "cell_type": "code",
   "execution_count": 1,
   "metadata": {},
   "outputs": [
    {
     "name": "stdout",
     "output_type": "stream",
     "text": [
      "Final count of positive number is:  6\n"
     ]
    }
   ],
   "source": [
    "numbers = [1, -2, 3, -4, 5, 6, -7, -8, 9, 10]\n",
    "count = 0 \n",
    "for num in numbers:\n",
    "    if num > 0:\n",
    "        count += 1\n",
    "print(\"Final count of positive number is: \", count)\n",
    "    "
   ]
  },
  {
   "cell_type": "markdown",
   "metadata": {},
   "source": [
    "<a name='2'></a>\n",
    "### 2. Sum of Even Number\n",
    "- calculate the sum of even numbers up to a Given number n."
   ]
  },
  {
   "cell_type": "code",
   "execution_count": 6,
   "metadata": {},
   "outputs": [
    {
     "name": "stdout",
     "output_type": "stream",
     "text": [
      "2\n"
     ]
    }
   ],
   "source": [
    "number = int(input(\"Enter ther Number: \"))\n",
    "sum_even = 0\n",
    "\n",
    "for i in range(1, number+1):\n",
    "    if i%2 == 0:\n",
    "        sum_even += 1\n",
    "\n",
    "print(sum_even)"
   ]
  },
  {
   "cell_type": "markdown",
   "metadata": {},
   "source": [
    "<a name='3'></a>\n",
    "### 3. Multiplication Table Printer\n",
    "\n",
    "- Print the multiplication table for a given number up to 10. but skip the fifth iteration."
   ]
  },
  {
   "cell_type": "code",
   "execution_count": 12,
   "metadata": {},
   "outputs": [
    {
     "name": "stdout",
     "output_type": "stream",
     "text": [
      "4 X 1 = 4\n",
      "4 X 2 = 8\n",
      "4 X 3 = 12\n",
      "4 X 4 = 16\n",
      "4 X 6 = 24\n",
      "4 X 7 = 28\n",
      "4 X 8 = 32\n",
      "4 X 9 = 36\n",
      "4 X 10 = 40\n"
     ]
    }
   ],
   "source": [
    "number = int(input(\"Enter the number: \"))\n",
    "for i in range(1, 11):\n",
    "    if i == 5:\n",
    "        continue\n",
    "    print(number, 'X', i, '=', number * i) "
   ]
  },
  {
   "cell_type": "code",
   "execution_count": 15,
   "metadata": {},
   "outputs": [
    {
     "name": "stdout",
     "output_type": "stream",
     "text": [
      "7 X 1 = 7\n",
      "7 X 2 = 14\n",
      "7 X 3 = 21\n",
      "7 X 4 = 28\n",
      "7 X 6 = 42\n",
      "7 X 7 = 49\n",
      "7 X 8 = 56\n",
      "7 X 9 = 63\n",
      "7 X 10 = 70\n"
     ]
    }
   ],
   "source": [
    "num = int(input(\"Enter the Number: \"))\n",
    "\n",
    "for i in range(1, 11):\n",
    "    if i == 5:\n",
    "        continue\n",
    "    print(num,'X', i, '=', num*i)"
   ]
  },
  {
   "cell_type": "markdown",
   "metadata": {},
   "source": [
    "<a name = \"4\" ></a>\n",
    "## 4. Reverse a String\n",
    "- Reverse a string using a loop"
   ]
  },
  {
   "cell_type": "code",
   "execution_count": 23,
   "metadata": {},
   "outputs": [
    {
     "name": "stdout",
     "output_type": "stream",
     "text": [
      "ihsur\n"
     ]
    }
   ],
   "source": [
    "input_str = input(\"Enter the text: \")\n",
    "reversed_str = \"\"\n",
    "\n",
    "for char in input_str:\n",
    "    reversed_str = char + reversed_str\n",
    "print(reversed_str)"
   ]
  },
  {
   "cell_type": "code",
   "execution_count": 24,
   "metadata": {},
   "outputs": [
    {
     "name": "stdout",
     "output_type": "stream",
     "text": [
      "ihsur\n"
     ]
    }
   ],
   "source": [
    "org_str = input()\n",
    "rev_str = org_str[::-1]\n",
    "print(reversed_str)"
   ]
  },
  {
   "cell_type": "markdown",
   "metadata": {},
   "source": [
    "<a name=\"5\"></a>\n",
    "### 5. Find the First Non-Repeated Character\n",
    "\n",
    "- Given a string, find the first non-repeated character."
   ]
  },
  {
   "cell_type": "code",
   "execution_count": 1,
   "metadata": {},
   "outputs": [
    {
     "name": "stdout",
     "output_type": "stream",
     "text": [
      "Char is:  r\n"
     ]
    }
   ],
   "source": [
    "input_str = \"teeter\"\n",
    "\n",
    "for char in input_str:\n",
    "    if input_str.count(char) == 1:\n",
    "        print(\"Char is: \", char)"
   ]
  },
  {
   "cell_type": "code",
   "execution_count": 8,
   "metadata": {},
   "outputs": [
    {
     "name": "stdout",
     "output_type": "stream",
     "text": [
      "t\n",
      "e\n",
      "e\n",
      "t\n",
      "e\n",
      "r\n",
      "char is:  r\n"
     ]
    }
   ],
   "source": [
    "input_str = \"teeter\"\n",
    "\n",
    "for char in input_str:\n",
    "    print(char)\n",
    "    if input_str.count(char) == 1:\n",
    "        print(\"char is: \",char)\n",
    "        break"
   ]
  },
  {
   "cell_type": "markdown",
   "metadata": {},
   "source": [
    "<a name=\"6\"></a>\n",
    "### 6. Factorial Calculator\n",
    "- Compute the factorial of a number using a **while** loop."
   ]
  },
  {
   "cell_type": "code",
   "execution_count": 12,
   "metadata": {},
   "outputs": [
    {
     "name": "stdout",
     "output_type": "stream",
     "text": [
      "120\n"
     ]
    }
   ],
   "source": [
    "number = 5\n",
    "factorial = 1\n",
    "\n",
    "while number > 0:\n",
    "    factorial = factorial * number\n",
    "    number = number - 1\n",
    "print(factorial)\n"
   ]
  },
  {
   "cell_type": "code",
   "execution_count": 21,
   "metadata": {},
   "outputs": [
    {
     "name": "stdin",
     "output_type": "stream",
     "text": [
      "Enter the number:  5\n"
     ]
    },
    {
     "name": "stdout",
     "output_type": "stream",
     "text": [
      "120\n"
     ]
    }
   ],
   "source": [
    "number = int(input(\"Enter the number: \"))\n",
    "\n",
    "facto = 1\n",
    "\n",
    "while number > 1:\n",
    "    facto = facto * number\n",
    "    number = number - 1\n",
    "print(facto)"
   ]
  },
  {
   "cell_type": "code",
   "execution_count": 25,
   "metadata": {},
   "outputs": [
    {
     "name": "stdin",
     "output_type": "stream",
     "text": [
      " 5\n"
     ]
    },
    {
     "name": "stdout",
     "output_type": "stream",
     "text": [
      "Factorial:  120\n"
     ]
    }
   ],
   "source": [
    "number = int(input())\n",
    "factorial = 1 \n",
    "\n",
    "while number > 1:\n",
    "    factorial *= number\n",
    "    number -= 1\n",
    "print(\"Factorial: \", factorial)"
   ]
  },
  {
   "cell_type": "markdown",
   "metadata": {},
   "source": [
    "<a name=\"7\"></a>\n",
    "\n",
    "### 7. Validate Input\n",
    "- Keep asking the user for input until they enter a number between 1 and 10\n"
   ]
  },
  {
   "cell_type": "code",
   "execution_count": 27,
   "metadata": {},
   "outputs": [
    {
     "name": "stdin",
     "output_type": "stream",
     "text": [
      "Please enter the number between 1 and 10 11\n"
     ]
    }
   ],
   "source": [
    "user_input = int(input(\"Please enter the number between 1 and 10\"))\n",
    "\n",
    "while (user_input < 10 and user_input > 0):\n",
    "    print(\"Please Enter the valid input\")\n",
    "    if user_input < 10 and user_input > 0:\n",
    "        break"
   ]
  },
  {
   "cell_type": "code",
   "execution_count": 30,
   "metadata": {},
   "outputs": [
    {
     "name": "stdin",
     "output_type": "stream",
     "text": [
      "Please enter the number between 1 to 10 15\n"
     ]
    },
    {
     "name": "stdout",
     "output_type": "stream",
     "text": [
      "Invalid number, try again!\n"
     ]
    },
    {
     "name": "stdin",
     "output_type": "stream",
     "text": [
      "Please enter the number between 1 to 10 5\n"
     ]
    },
    {
     "name": "stdout",
     "output_type": "stream",
     "text": [
      "Thanks For Co-Ordinations! \n"
     ]
    }
   ],
   "source": [
    "while True:\n",
    "    number = int(input(\"Please enter the number between 1 to 10\"))\n",
    "    if 1 <= number <= 10:\n",
    "        print(\"Thanks For Co-Ordinations! \")\n",
    "        break\n",
    "    else:\n",
    "        print(\"Invalid number, try again!\")"
   ]
  },
  {
   "cell_type": "markdown",
   "metadata": {},
   "source": [
    "<a name=\"8\"></a>\n",
    "### 8. Prime Number Checker\n",
    "- Check if a number is prime\n",
    "- Number is divided by itself only\n",
    "- a number that can be divided exactly only by itself and 1, for example 7, 17 and 41 \n"
   ]
  },
  {
   "cell_type": "code",
   "execution_count": 39,
   "metadata": {},
   "outputs": [
    {
     "name": "stdin",
     "output_type": "stream",
     "text": [
      "Enter the Number:  28\n"
     ]
    },
    {
     "name": "stdout",
     "output_type": "stream",
     "text": [
      "28 is a False\n"
     ]
    }
   ],
   "source": [
    "number = int(input(\"Enter the Number: \"))\n",
    "\n",
    "is_prime = True\n",
    "\n",
    "if number > 1:\n",
    "    for i in range(2, number):\n",
    "        if (number % i) == 0:\n",
    "            is_prime = False\n",
    "            break\n",
    "print(number, \"is a\", is_prime)     \n",
    "            "
   ]
  },
  {
   "cell_type": "code",
   "execution_count": null,
   "metadata": {},
   "outputs": [],
   "source": []
  },
  {
   "cell_type": "code",
   "execution_count": 43,
   "metadata": {},
   "outputs": [
    {
     "name": "stdin",
     "output_type": "stream",
     "text": [
      "Enter the number:  4\n"
     ]
    },
    {
     "name": "stdout",
     "output_type": "stream",
     "text": [
      "False\n"
     ]
    }
   ],
   "source": [
    "num = int(input(\"Enter the number: \"))\n",
    "is_prime = True\n",
    "\n",
    "if num > 1:\n",
    "    for i in range(2, num):\n",
    "        if (num % i) == 0:\n",
    "            is_prime = False\n",
    "            break\n",
    "print(is_prime)"
   ]
  },
  {
   "cell_type": "code",
   "execution_count": 48,
   "metadata": {},
   "outputs": [
    {
     "name": "stdin",
     "output_type": "stream",
     "text": [
      "Enter the number:  19\n"
     ]
    },
    {
     "name": "stdout",
     "output_type": "stream",
     "text": [
      "19 is a Prime Number: True\n"
     ]
    }
   ],
   "source": [
    "num = int(input(\"Enter the number: \"))\n",
    "is_prime = True\n",
    "\n",
    "if num > 1:\n",
    "    i = 2\n",
    "    while i < num:\n",
    "        if (num % i) == 0:\n",
    "            is_prime = False\n",
    "            break\n",
    "        i += 1\n",
    "else:\n",
    "    is_prime = False\n",
    "print(f\"{num} is a Prime Number: {is_prime}\")"
   ]
  },
  {
   "cell_type": "markdown",
   "metadata": {},
   "source": [
    "<a name=\"9\"></a>\n",
    "### List Uniqueness Checker\n",
    "- Check if all elements in a list are unique. if a duplicate is found, exit the loop and print the duplicate.\n",
    "- items = [\"apple\", \"banana\", \"orange\", \"apple\", \"mango\"]"
   ]
  },
  {
   "cell_type": "code",
   "execution_count": 50,
   "metadata": {},
   "outputs": [
    {
     "name": "stdout",
     "output_type": "stream",
     "text": [
      "Duplicate:  apple\n"
     ]
    }
   ],
   "source": [
    "items = [\"apple\", \"banana\", \"orange\", \"apple\", \"mango\"]\n",
    "unique_item = set(items)\n",
    "\n",
    "for item in items:\n",
    "    if item in unique_item:\n",
    "        print(\"Duplicate: \", item)\n",
    "        break\n",
    "    unique_item.add(item)"
   ]
  },
  {
   "cell_type": "markdown",
   "metadata": {},
   "source": [
    "<a name=\"10\"></a>\n",
    "### 10. Exponential Backoff\n",
    "- Implement an exponential backoff strategy that doubles the wait time between retries, starting from 1 second, but stops after 5 retries."
   ]
  },
  {
   "cell_type": "code",
   "execution_count": 54,
   "metadata": {},
   "outputs": [
    {
     "name": "stdout",
     "output_type": "stream",
     "text": [
      "Attempt 1 - wait time 1\n",
      "Attempt 2 - wait time 2\n",
      "Attempt 3 - wait time 4\n",
      "Attempt 4 - wait time 8\n",
      "Attempt 5 - wait time 16\n",
      "Attempt 6 - wait time 32\n"
     ]
    }
   ],
   "source": [
    "import time\n",
    "\n",
    "wait_time = 1\n",
    "max_retries = 5\n",
    "attempts = 0\n",
    "\n",
    "while attempts <= max_retries:\n",
    "    print(\"Attempt\", attempts + 1, \"- wait time\", wait_time)\n",
    "    time.sleep(wait_time)\n",
    "    wait_time *= 2\n",
    "    attempts += 1"
   ]
  },
  {
   "cell_type": "code",
   "execution_count": null,
   "metadata": {},
   "outputs": [],
   "source": []
  }
 ],
 "metadata": {
  "kernelspec": {
   "display_name": "Python 3 (ipykernel)",
   "language": "python",
   "name": "python3"
  },
  "language_info": {
   "codemirror_mode": {
    "name": "ipython",
    "version": 3
   },
   "file_extension": ".py",
   "mimetype": "text/x-python",
   "name": "python",
   "nbconvert_exporter": "python",
   "pygments_lexer": "ipython3",
   "version": "3.12.3"
  }
 },
 "nbformat": 4,
 "nbformat_minor": 4
}
