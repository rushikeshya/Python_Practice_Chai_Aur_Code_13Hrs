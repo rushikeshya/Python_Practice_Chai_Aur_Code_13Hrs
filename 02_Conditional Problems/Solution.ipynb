{
 "cells": [
  {
   "cell_type": "markdown",
   "metadata": {},
   "source": [
    "# Questions on Conditional Statements\n",
    "<details>\n",
    "<summary>\n",
    "1. Age Group Categorization\n",
    "</summary>\n",
    "- Classify a person's age Group: Child (<13), Teenager (13-19), Adult(20-59), Senior (60+).\n",
    "\n",
    "</details>\n",
    "\n",
    "<details>\n",
    "<summary>\n",
    "2. Movie Ticket Pricing\n",
    "</summary>\n",
    "**Problem:** \n",
    "- Movie tickets are priced based on age: $12 for adults(18 and over), \n",
    "- $8 for children,\n",
    "- Everyone gets a $2 discount on Wednesday \n",
    "\n",
    "</details>\n",
    "\n",
    "<details>\n",
    "<summary>\n",
    "3. Grade Calculator\n",
    "</summary>\n",
    "Assign a letter grade on a student's score: \n",
    "A(90-100), B(80-89), C(70-79), D(60-69), F(below 60)\n",
    "</details>\n",
    "\n",
    "<details>\n",
    "<summary>\n",
    "4. Fruit Ripeness Checker\n",
    "</summary>\n",
    "- Determine if a fruit ripe, overripe, or unripe based on its color. (e.g. Banana: Green - Unripe, Yello - Ripe, Brown - Overripe)\n",
    "</details>\n",
    "\n",
    "<details>\n",
    "<summary>\n",
    "5. Weather Activity Suggession\n",
    "</summary>\n",
    "Suggest an activity based on the weather (e.g., sunny - Go for walk, Rainy - read a book, snowy - Build a snowman).\n",
    "</details>\n",
    "\n",
    "<details>\n",
    "<summary>\n",
    "6. Transportation Mode Selection\n",
    "</summary>\n",
    "Choose a mode of transportation based on the distance \n",
    "(e.g., <3 km: walk,  3-15km: Bike, >15km: Car )\n",
    "</details>\n",
    "\n",
    "<details>\n",
    "<summary>\n",
    "7. Coffe Customization\n",
    "</summary>\n",
    "Customize a coffee order: \"small\", \"Medium\", or \"Large\" with an option for \"Extra shot\" of espresso.\n",
    "</details>\n",
    "\n",
    "<details>\n",
    "<summary>\n",
    "8. Password Strength Checker\n",
    "</summary>\n",
    "Check if a password is \"weak\", \"medium\", or \"strong\". Criteria:<6 characters (weak), 6 - 10 chars(medium), >10 chars(strong)\n",
    "</details>\n",
    "\n",
    "<details>\n",
    "<summary>\n",
    "9. Leap Year Checker\n",
    "</summary>\n",
    "Determine if a year is a leap year. (Leap years are divisible by 4, but not by 100 unless also divisible by 400.)\n",
    "</details>\n",
    "\n",
    "<details>\n",
    "<summary>\n",
    "10. Pet Food Recommendation \n",
    "</summary>\n",
    "Recommend a type of pet food based on the pet's species and age. (e.g., Dog; <2 years - Puppy food, cat: >5 years - Senior cat food)\n",
    "</details>\n",
    "\n",
    "\n"
   ]
  },
  {
   "cell_type": "markdown",
   "metadata": {},
   "source": []
  },
  {
   "cell_type": "markdown",
   "metadata": {
    "vscode": {
     "languageId": "plaintext"
    }
   },
   "source": [
    "## 1. Age Group Categorization solution"
   ]
  },
  {
   "cell_type": "code",
   "execution_count": 1,
   "metadata": {},
   "outputs": [
    {
     "name": "stdout",
     "output_type": "stream",
     "text": [
      "Adult\n"
     ]
    }
   ],
   "source": [
    "## 1. Age Group Categorization\n",
    "# - Classify a person's age Group: Child (<13), \n",
    "# Teenager (13-19), Adult(20-59), Senior (60+).\n",
    "\n",
    "age = input(\"Please enter your age: /n\")\n",
    "\n",
    "age_in_int = int(age)\n",
    "\n",
    "# Conditional Logic\n",
    "if age_in_int < 13:\n",
    "    print(\"Child\")\n",
    "\n",
    "elif age_in_int < 20:\n",
    "    print(\"Teneeger\")\n",
    "elif age_in_int < 60:\n",
    "    print(\"Adult\")\n",
    "else:\n",
    "    print(\"Senior\")"
   ]
  },
  {
   "cell_type": "markdown",
   "metadata": {},
   "source": [
    "## 2. Movie Ticket Pricing\n",
    "''' \n",
    "Problem:\n",
    "- Movie tickets are priced based on age: \n",
    "- $12 for adults(18 and over), \n",
    "- $8 for children,\n",
    "- Everyone gets a $2 discount on Wednesday \n",
    "'''"
   ]
  },
  {
   "cell_type": "code",
   "execution_count": null,
   "metadata": {},
   "outputs": [],
   "source": [
    "def ticket(age, weekday):\n",
    "    ticket_price = 0\n",
    "    if age < 18:\n",
    "        ticket_price = 8\n",
    "    elif age >= 18:\n",
    "        ticket_price = 12\n",
    "    # Apply discount if it's Wednesday (case insensitive)\n",
    "    if weekday.lower() == 'wed':\n",
    "        ticket_price -= 2\n",
    "    return ticket_price\n",
    "# Input Handling\n",
    "row_age = input(\"Please Enter Your Age: \")\n",
    "weekday = input(\"Please Enter Current Day:(sun, mon, tue, wed, thu, fri, sat) \")\n",
    "try:\n",
    "    # Convert age to integer\n",
    "    age = int(row_age)\n",
    "    # Calculate and display ticket price \n",
    "    print(\"Your Ticket prise is: $\", ticket(age, weekday))\n",
    "except:\n",
    "    print(\"Invalid age input. Please enter a numeric value for age.\")"
   ]
  },
  {
   "cell_type": "code",
   "execution_count": 3,
   "metadata": {},
   "outputs": [
    {
     "name": "stdout",
     "output_type": "stream",
     "text": [
      "Your ticket prise is: $ 10\n"
     ]
    }
   ],
   "source": [
    "age = int(input())\n",
    "day = \"wednesday\"\n",
    "price = 12 if age >= 18 else 8\n",
    "if day == \"wednesday\":\n",
    "    price -= 2\n",
    "print(\"Your ticket prise is: $\",price)"
   ]
  },
  {
   "cell_type": "markdown",
   "metadata": {},
   "source": [
    "## 3. Grade Calculator\n",
    "<summary>\n",
    "Assign a letter grade on a student's score: \n",
    "A(90-100), B(80-89), C(70-79), D(60-69), F(below 60)\n",
    "</summary>"
   ]
  },
  {
   "cell_type": "code",
   "execution_count": null,
   "metadata": {},
   "outputs": [
    {
     "name": "stdout",
     "output_type": "stream",
     "text": [
      "Youre grade is: B\n"
     ]
    }
   ],
   "source": [
    "score = int(input(\"Enter the Student Marks: \"))\n",
    "\n",
    "if score < 100 and score > 90:\n",
    "    print(\"Your grade is: A\")\n",
    "\n",
    "elif score < 89 and score > 80:\n",
    "    print(\"Your grade is: B\")\n",
    "\n",
    "elif score < 79 and score > 70:\n",
    "    print(\"Your grade is: C\")\n",
    "\n",
    "elif score < 69 and score > 60:\n",
    "    print(\"Your grade is: D\")\n",
    "else:\n",
    "    print(\"Your score is: F\")\n"
   ]
  },
  {
   "cell_type": "code",
   "execution_count": 14,
   "metadata": {},
   "outputs": [
    {
     "name": "stdout",
     "output_type": "stream",
     "text": [
      "B\n"
     ]
    }
   ],
   "source": [
    "score = 85\n",
    "if score >= 90:\n",
    "    grade = \"A\"\n",
    "elif score >= 80:\n",
    "    grade = \"B\"\n",
    "elif score >= 70:\n",
    "    grade = \"C\"\n",
    "elif score >= 60:\n",
    "    grade = \"D\"\n",
    "else:\n",
    "    grade = \"F\"\n",
    "\n",
    "\n",
    "print(grade)"
   ]
  },
  {
   "cell_type": "code",
   "execution_count": 2,
   "metadata": {},
   "outputs": [
    {
     "name": "stdout",
     "output_type": "stream",
     "text": [
      "Please verify your score again!\n",
      "A\n"
     ]
    }
   ],
   "source": [
    "score = 101\n",
    "\n",
    "if score >= 101:\n",
    "    print(\"Please verify your score again!\")\n",
    "    # exit()\n",
    "# Determine grade based on score\n",
    "if score >= 90:\n",
    "    grade = \"A\"\n",
    "elif score >= 80:\n",
    "    grade = \"B\"\n",
    "elif score >= 70:\n",
    "    grade = \"C\"\n",
    "elif score >= 60:\n",
    "    grade = \"D\"\n",
    "else:\n",
    "    grade = \"F\"\n",
    "\n",
    "# Display the grade\n",
    "print(grade)\n"
   ]
  },
  {
   "cell_type": "markdown",
   "metadata": {},
   "source": [
    "## 4. Fruit Ripeness Checker\n",
    "\n",
    "- Determine if a fruit ripe, overripe, or unripe based on its color. (e.g. Banana: Green - Unripe, Yello - Ripe, Brown - Overripe)"
   ]
  },
  {
   "cell_type": "code",
   "execution_count": 5,
   "metadata": {},
   "outputs": [
    {
     "name": "stdout",
     "output_type": "stream",
     "text": [
      "Banana is Riped\n"
     ]
    }
   ],
   "source": [
    "fruit = \"Banana\"\n",
    "color = int(input(\"Enter if green: 1, Yellow: 2, Brown: 3\"))\n",
    "\n",
    "if fruit == \"Banana\":\n",
    "    if color == 1 :\n",
    "        print(\"Banana is UnRiped\")\n",
    "    elif color == 2 :\n",
    "        print(\"Banana is Riped\")\n",
    "    elif color == 3 :\n",
    "        print(\"Banana is Over-Riped\")"
   ]
  },
  {
   "cell_type": "markdown",
   "metadata": {},
   "source": [
    "## 5. Weather Activity Suggession\n",
    "Suggest an activity based on the weather (e.g., sunny - Go for walk, Rainy - read a book, snowy - Build a snowman)."
   ]
  },
  {
   "cell_type": "code",
   "execution_count": 9,
   "metadata": {},
   "outputs": [
    {
     "name": "stdout",
     "output_type": "stream",
     "text": [
      "Read a Book! \n"
     ]
    }
   ],
   "source": [
    "weather = input(\"Enter ther weather - summer, rainy, snowy\")\n",
    "\n",
    "if weather.lower() == 'summer':\n",
    "    print(\"Go for walk!\")\n",
    "elif weather.lower() == 'rainy':\n",
    "    print(\"Read a Book! \")\n",
    "elif weather.lower() == 'snowy':\n",
    "    print(\"Build a snowman!\")\n",
    "else:\n",
    "    print(\"Please check your input:\",weather)"
   ]
  },
  {
   "cell_type": "markdown",
   "metadata": {},
   "source": [
    "## 6. Transportation Mode Selection\n",
    "\n",
    "- Choose a mode of transportation based on the distance \n",
    "- (e.g., <3 km: walk,  3-15km: Bike, >15km: Car )"
   ]
  },
  {
   "cell_type": "code",
   "execution_count": 3,
   "metadata": {},
   "outputs": [
    {
     "name": "stdout",
     "output_type": "stream",
     "text": [
      "You Can walk\n"
     ]
    }
   ],
   "source": [
    "km = int(input(\"Please enter km: \"))\n",
    "\n",
    "if km <= 3:\n",
    "    print(\"You Can walk\")\n",
    "elif km <= 15:\n",
    "    print(\"You can use Bike\")\n",
    "else:\n",
    "    print(\"Please You use Bike\")\n"
   ]
  },
  {
   "cell_type": "markdown",
   "metadata": {},
   "source": [
    "## 7. Coffe Customization\n",
    "</summary>\n",
    "Customize a coffee order: \"small\", \"Medium\", or \"Large\" with an option for \"Extra shot\" of espresso.\n",
    "</details>"
   ]
  },
  {
   "cell_type": "code",
   "execution_count": 4,
   "metadata": {},
   "outputs": [
    {
     "name": "stdout",
     "output_type": "stream",
     "text": [
      "small coffee with an extra shot\n"
     ]
    }
   ],
   "source": [
    "order_size = input(\"Enter your order: small, medium or large\").lower()\n",
    "extra_shot = input(\"You want to extra shot - 'yes' or 'no' \").lower()\n",
    "\n",
    "if extra_shot == \"yes\":\n",
    "    print(order_size + \" coffee with an extra shot\")\n",
    "else:\n",
    "    print(order_size + \"coffee\")\n"
   ]
  },
  {
   "cell_type": "markdown",
   "metadata": {},
   "source": [
    "## 8. Password Strength Checker\n",
    "\n",
    "- Check if a password is \"weak\", \"medium\", or \"strong\". Criteria:<6 characters (weak), 6 - 10 chars(medium), >10 chars(strong)\n"
   ]
  },
  {
   "cell_type": "code",
   "execution_count": 10,
   "metadata": {},
   "outputs": [
    {
     "name": "stdout",
     "output_type": "stream",
     "text": [
      "Your password is WEEK.\n"
     ]
    }
   ],
   "source": [
    "password = input(\"Please Enter Your Password: \")\n",
    "\n",
    "char = len(password)\n",
    "\n",
    "if char < 6 :\n",
    "    print(\"Your password is WEEK.\")\n",
    "elif char < 10:\n",
    "    print(\"Your password is MEDIUM.\")\n",
    "elif char > 10:\n",
    "    print(\"Your password is STRONG.\")\n"
   ]
  },
  {
   "cell_type": "markdown",
   "metadata": {},
   "source": [
    "## 9. Leap Year Checker\n",
    "</summary>\n",
    "Determine if a year is a leap year. (Leap years are divisible by 4, but not by 100 unless also divisible by 400.)\n",
    "</details>"
   ]
  },
  {
   "cell_type": "code",
   "execution_count": 29,
   "metadata": {},
   "outputs": [
    {
     "name": "stdout",
     "output_type": "stream",
     "text": [
      "2140  is a leap year\n"
     ]
    }
   ],
   "source": [
    "year = int(input(\"Please Enter the YEAR: \"))\n",
    "\n",
    "if (year % 400 == 0) or (year % 4 == 0 and year % 100 != 0):\n",
    "    print(year, \" is a leap year\")\n",
    "else:\n",
    "    print(year, \" is not a leap year\")"
   ]
  },
  {
   "cell_type": "markdown",
   "metadata": {},
   "source": [
    "10. Pet Food Recommendation \n",
    "</summary>\n",
    "Recommend a type of pet food based on the pet's species and age. (e.g., Dog; <2 years - Puppy food, cat: >5 years - Senior cat food)\n",
    "</details>\n"
   ]
  },
  {
   "cell_type": "code",
   "execution_count": 31,
   "metadata": {},
   "outputs": [
    {
     "name": "stdout",
     "output_type": "stream",
     "text": [
      "Puppy food\n"
     ]
    }
   ],
   "source": [
    "name = input(\"Please enter name of Pet: \")\n",
    "age = int(input(\"Please Enter the AGE of the Pet: \"))\n",
    "\n",
    "if name.lower() == 'dog' and age < 2:\n",
    "    print(\"Puppy food\")\n",
    "elif name.lower() == 'cat' and age > 5:\n",
    "    print(\"Senior cat food\")\n"
   ]
  },
  {
   "cell_type": "code",
   "execution_count": null,
   "metadata": {},
   "outputs": [],
   "source": []
  }
 ],
 "metadata": {
  "kernelspec": {
   "display_name": "Python 3",
   "language": "python",
   "name": "python3"
  },
  "language_info": {
   "codemirror_mode": {
    "name": "ipython",
    "version": 3
   },
   "file_extension": ".py",
   "mimetype": "text/x-python",
   "name": "python",
   "nbconvert_exporter": "python",
   "pygments_lexer": "ipython3",
   "version": "3.12.3"
  }
 },
 "nbformat": 4,
 "nbformat_minor": 2
}
