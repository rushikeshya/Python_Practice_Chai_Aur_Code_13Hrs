{
 "cells": [
  {
   "cell_type": "markdown",
   "id": "dd0f5253-0769-407f-bd09-91acf5825e0f",
   "metadata": {},
   "source": [
    "## 31-12-2024 - Iteration_tools"
   ]
  },
  {
   "cell_type": "code",
   "execution_count": 1,
   "id": "7462292d-1c39-4065-b2eb-1da40d8d33fc",
   "metadata": {},
   "outputs": [
    {
     "data": {
      "text/plain": [
       "'import time\\n'"
      ]
     },
     "execution_count": 1,
     "metadata": {},
     "output_type": "execute_result"
    }
   ],
   "source": [
    "f = open('chai.py')\n",
    "f.readline()"
   ]
  },
  {
   "cell_type": "code",
   "execution_count": 3,
   "id": "e3bc8d6b-371f-4f28-8299-290a3cbefefc",
   "metadata": {},
   "outputs": [
    {
     "data": {
      "text/plain": [
       "'print(\"Chai is here.\")\\n'"
      ]
     },
     "execution_count": 3,
     "metadata": {},
     "output_type": "execute_result"
    }
   ],
   "source": [
    "f.readline()"
   ]
  },
  {
   "cell_type": "code",
   "execution_count": 4,
   "id": "48b0d5a2-99a1-4007-af89-0a0df90aec67",
   "metadata": {},
   "outputs": [
    {
     "data": {
      "text/plain": [
       "'username = \"Rushikesh\"\\n'"
      ]
     },
     "execution_count": 4,
     "metadata": {},
     "output_type": "execute_result"
    }
   ],
   "source": [
    "f.readline()"
   ]
  },
  {
   "cell_type": "code",
   "execution_count": 5,
   "id": "f09355cf-b4fc-427e-9c6e-a3ac67520c54",
   "metadata": {},
   "outputs": [
    {
     "data": {
      "text/plain": [
       "'print(username)'"
      ]
     },
     "execution_count": 5,
     "metadata": {},
     "output_type": "execute_result"
    }
   ],
   "source": [
    "f.readline()"
   ]
  },
  {
   "cell_type": "code",
   "execution_count": 6,
   "id": "0f5a9ea8-02c9-4d5d-aeea-ad187a46a30e",
   "metadata": {},
   "outputs": [
    {
     "data": {
      "text/plain": [
       "''"
      ]
     },
     "execution_count": 6,
     "metadata": {},
     "output_type": "execute_result"
    }
   ],
   "source": [
    "f.readline()"
   ]
  },
  {
   "cell_type": "code",
   "execution_count": 8,
   "id": "8a55b048-a17b-4267-b57d-8d0ea1d7825a",
   "metadata": {},
   "outputs": [],
   "source": [
    "f = open('chai.py')\n"
   ]
  },
  {
   "cell_type": "code",
   "execution_count": 9,
   "id": "94d15b35-b9f0-4bfe-ad75-35043190a176",
   "metadata": {},
   "outputs": [
    {
     "data": {
      "text/plain": [
       "'import time\\n'"
      ]
     },
     "execution_count": 9,
     "metadata": {},
     "output_type": "execute_result"
    }
   ],
   "source": [
    "f.__next__()"
   ]
  },
  {
   "cell_type": "code",
   "execution_count": 10,
   "id": "5f9fd3db-80d2-4750-ab9e-b205f84a9ffa",
   "metadata": {},
   "outputs": [
    {
     "data": {
      "text/plain": [
       "'print(\"Chai is here.\")\\n'"
      ]
     },
     "execution_count": 10,
     "metadata": {},
     "output_type": "execute_result"
    }
   ],
   "source": [
    "f.__next__()"
   ]
  },
  {
   "cell_type": "code",
   "execution_count": 11,
   "id": "120793ec-165d-4ebb-8de4-642d2ea5ea84",
   "metadata": {},
   "outputs": [
    {
     "data": {
      "text/plain": [
       "'username = \"Rushikesh\"\\n'"
      ]
     },
     "execution_count": 11,
     "metadata": {},
     "output_type": "execute_result"
    }
   ],
   "source": [
    "f.__next__()"
   ]
  },
  {
   "cell_type": "code",
   "execution_count": 12,
   "id": "3eb9fa95-29bc-40a0-b6c2-534ea474b3e1",
   "metadata": {},
   "outputs": [
    {
     "data": {
      "text/plain": [
       "'print(username)'"
      ]
     },
     "execution_count": 12,
     "metadata": {},
     "output_type": "execute_result"
    }
   ],
   "source": [
    "f.__next__()"
   ]
  },
  {
   "cell_type": "code",
   "execution_count": 13,
   "id": "ea663eb6-a402-4adb-bb0b-b0c420a5feff",
   "metadata": {},
   "outputs": [
    {
     "ename": "StopIteration",
     "evalue": "",
     "output_type": "error",
     "traceback": [
      "\u001b[1;31m---------------------------------------------------------------------------\u001b[0m",
      "\u001b[1;31mStopIteration\u001b[0m                             Traceback (most recent call last)",
      "Cell \u001b[1;32mIn[13], line 1\u001b[0m\n\u001b[1;32m----> 1\u001b[0m \u001b[43mf\u001b[49m\u001b[38;5;241;43m.\u001b[39;49m\u001b[38;5;21;43m__next__\u001b[39;49m\u001b[43m(\u001b[49m\u001b[43m)\u001b[49m\n",
      "\u001b[1;31mStopIteration\u001b[0m: "
     ]
    }
   ],
   "source": [
    "f.__next__()"
   ]
  },
  {
   "cell_type": "code",
   "execution_count": 15,
   "id": "5d6e3f15-1e31-473b-bc32-07f75e57736f",
   "metadata": {},
   "outputs": [
    {
     "name": "stdout",
     "output_type": "stream",
     "text": [
      "import time\n",
      "\n",
      "print(\"Chai is here.\")\n",
      "\n",
      "username = \"Rushikesh\"\n",
      "\n",
      "print(username)\n"
     ]
    }
   ],
   "source": [
    "for line in open('chai.py'):\n",
    "    print(line)"
   ]
  },
  {
   "cell_type": "code",
   "execution_count": 16,
   "id": "14ef363d-9488-4ec2-b465-25f8c7d97fd8",
   "metadata": {},
   "outputs": [
    {
     "name": "stdout",
     "output_type": "stream",
     "text": [
      "import time\n",
      "print(\"Chai is here.\")\n",
      "username = \"Rushikesh\"\n",
      "print(username)"
     ]
    }
   ],
   "source": [
    "for line in open('chai.py'):\n",
    "    print(line, end=\"\")"
   ]
  },
  {
   "cell_type": "code",
   "execution_count": 20,
   "id": "6a321aad-e4f1-446c-ab52-c88a459bb267",
   "metadata": {},
   "outputs": [
    {
     "name": "stdout",
     "output_type": "stream",
     "text": [
      "import time\n",
      "print(\"Chai is here.\")\n",
      "username = \"Rushikesh\"\n",
      "print(username)"
     ]
    }
   ],
   "source": [
    "f = open('chai.py')\n",
    "while True:\n",
    "    line = f.readline()\n",
    "    if not line: \n",
    "        break\n",
    "    print(line, end=\"\")"
   ]
  },
  {
   "cell_type": "code",
   "execution_count": 1,
   "id": "f2037579-5dc8-4704-bc26-d0fab496e51d",
   "metadata": {},
   "outputs": [
    {
     "data": {
      "text/plain": [
       "<list_iterator at 0x236bc29bca0>"
      ]
     },
     "execution_count": 1,
     "metadata": {},
     "output_type": "execute_result"
    }
   ],
   "source": [
    "myList = [1, 2, 3, 4]\n",
    "\n",
    "I = iter(myList)\n",
    "I"
   ]
  },
  {
   "cell_type": "code",
   "execution_count": 2,
   "id": "96197e7d-2c9b-4249-a9f7-84121cee90c6",
   "metadata": {},
   "outputs": [
    {
     "data": {
      "text/plain": [
       "1"
      ]
     },
     "execution_count": 2,
     "metadata": {},
     "output_type": "execute_result"
    }
   ],
   "source": [
    "I.__next__()"
   ]
  },
  {
   "cell_type": "code",
   "execution_count": 3,
   "id": "282b376f-d12f-423b-b804-a1e5ccf4a1b7",
   "metadata": {},
   "outputs": [
    {
     "data": {
      "text/plain": [
       "2"
      ]
     },
     "execution_count": 3,
     "metadata": {},
     "output_type": "execute_result"
    }
   ],
   "source": [
    "I.__next__()"
   ]
  },
  {
   "cell_type": "code",
   "execution_count": 4,
   "id": "7078bd04-746d-4f4a-8854-e0cff8c5a0e4",
   "metadata": {},
   "outputs": [
    {
     "data": {
      "text/plain": [
       "3"
      ]
     },
     "execution_count": 4,
     "metadata": {},
     "output_type": "execute_result"
    }
   ],
   "source": [
    "I.__next__()"
   ]
  },
  {
   "cell_type": "code",
   "execution_count": 5,
   "id": "086c03aa",
   "metadata": {},
   "outputs": [
    {
     "data": {
      "text/plain": [
       "4"
      ]
     },
     "execution_count": 5,
     "metadata": {},
     "output_type": "execute_result"
    }
   ],
   "source": [
    "I.__next__()"
   ]
  },
  {
   "cell_type": "code",
   "execution_count": 6,
   "id": "998f1f69",
   "metadata": {},
   "outputs": [
    {
     "ename": "StopIteration",
     "evalue": "",
     "output_type": "error",
     "traceback": [
      "\u001b[1;31m---------------------------------------------------------------------------\u001b[0m",
      "\u001b[1;31mStopIteration\u001b[0m                             Traceback (most recent call last)",
      "Cell \u001b[1;32mIn[6], line 1\u001b[0m\n\u001b[1;32m----> 1\u001b[0m \u001b[43mI\u001b[49m\u001b[38;5;241;43m.\u001b[39;49m\u001b[38;5;21;43m__next__\u001b[39;49m\u001b[43m(\u001b[49m\u001b[43m)\u001b[49m\n",
      "\u001b[1;31mStopIteration\u001b[0m: "
     ]
    }
   ],
   "source": [
    "I.__next__()"
   ]
  },
  {
   "cell_type": "code",
   "execution_count": 7,
   "id": "93a48966",
   "metadata": {},
   "outputs": [],
   "source": [
    "f = open('chai.py')"
   ]
  },
  {
   "cell_type": "code",
   "execution_count": 8,
   "id": "a9114608",
   "metadata": {},
   "outputs": [
    {
     "data": {
      "text/plain": [
       "True"
      ]
     },
     "execution_count": 8,
     "metadata": {},
     "output_type": "execute_result"
    }
   ],
   "source": [
    "iter(f) is f"
   ]
  },
  {
   "cell_type": "code",
   "execution_count": 9,
   "id": "d51a8dcd",
   "metadata": {},
   "outputs": [
    {
     "data": {
      "text/plain": [
       "True"
      ]
     },
     "execution_count": 9,
     "metadata": {},
     "output_type": "execute_result"
    }
   ],
   "source": [
    "iter(f) is f.__iter__()"
   ]
  },
  {
   "cell_type": "code",
   "execution_count": 10,
   "id": "f830c7d1",
   "metadata": {},
   "outputs": [
    {
     "data": {
      "text/plain": [
       "False"
      ]
     },
     "execution_count": 10,
     "metadata": {},
     "output_type": "execute_result"
    }
   ],
   "source": [
    "myNewList = [1, 2, 3]\n",
    "iter(myNewList) is myNewList"
   ]
  },
  {
   "cell_type": "code",
   "execution_count": 11,
   "id": "2a82557c",
   "metadata": {},
   "outputs": [
    {
     "name": "stdout",
     "output_type": "stream",
     "text": [
      "a\n",
      "b\n"
     ]
    }
   ],
   "source": [
    "D = {'a':1, 'b':2}\n",
    "\n",
    "for key in D.keys():\n",
    "    print(key)"
   ]
  },
  {
   "cell_type": "code",
   "execution_count": 14,
   "id": "e7f8d5ce",
   "metadata": {},
   "outputs": [
    {
     "data": {
      "text/plain": [
       "<dict_keyiterator at 0x236bc2338d0>"
      ]
     },
     "execution_count": 14,
     "metadata": {},
     "output_type": "execute_result"
    }
   ],
   "source": [
    "I = iter(D)\n",
    "I"
   ]
  },
  {
   "cell_type": "code",
   "execution_count": 15,
   "id": "c41a0e9a",
   "metadata": {},
   "outputs": [
    {
     "data": {
      "text/plain": [
       "'a'"
      ]
     },
     "execution_count": 15,
     "metadata": {},
     "output_type": "execute_result"
    }
   ],
   "source": [
    "I.__next__()"
   ]
  },
  {
   "cell_type": "code",
   "execution_count": 16,
   "id": "40a3089a",
   "metadata": {},
   "outputs": [
    {
     "data": {
      "text/plain": [
       "'b'"
      ]
     },
     "execution_count": 16,
     "metadata": {},
     "output_type": "execute_result"
    }
   ],
   "source": [
    "next(I)"
   ]
  },
  {
   "cell_type": "code",
   "execution_count": 17,
   "id": "81d3d242",
   "metadata": {},
   "outputs": [
    {
     "ename": "StopIteration",
     "evalue": "",
     "output_type": "error",
     "traceback": [
      "\u001b[1;31m---------------------------------------------------------------------------\u001b[0m",
      "\u001b[1;31mStopIteration\u001b[0m                             Traceback (most recent call last)",
      "Cell \u001b[1;32mIn[17], line 1\u001b[0m\n\u001b[1;32m----> 1\u001b[0m \u001b[38;5;28;43mnext\u001b[39;49m\u001b[43m(\u001b[49m\u001b[43mI\u001b[49m\u001b[43m)\u001b[49m\n",
      "\u001b[1;31mStopIteration\u001b[0m: "
     ]
    }
   ],
   "source": [
    "next(I)"
   ]
  },
  {
   "cell_type": "code",
   "execution_count": 19,
   "id": "317218f7",
   "metadata": {},
   "outputs": [
    {
     "data": {
      "text/plain": [
       "range(0, 5)"
      ]
     },
     "execution_count": 19,
     "metadata": {},
     "output_type": "execute_result"
    }
   ],
   "source": [
    "R = range(5)\n",
    "R"
   ]
  },
  {
   "cell_type": "code",
   "execution_count": 21,
   "id": "d840b18b",
   "metadata": {},
   "outputs": [
    {
     "data": {
      "text/plain": [
       "<range_iterator at 0x236bcba6750>"
      ]
     },
     "execution_count": 21,
     "metadata": {},
     "output_type": "execute_result"
    }
   ],
   "source": [
    "IR = iter(R)\n",
    "IR"
   ]
  },
  {
   "cell_type": "code",
   "execution_count": 22,
   "id": "c30351d7",
   "metadata": {},
   "outputs": [
    {
     "data": {
      "text/plain": [
       "0"
      ]
     },
     "execution_count": 22,
     "metadata": {},
     "output_type": "execute_result"
    }
   ],
   "source": [
    "IR.__next__()"
   ]
  },
  {
   "cell_type": "code",
   "execution_count": 23,
   "id": "d42f0d81",
   "metadata": {},
   "outputs": [
    {
     "data": {
      "text/plain": [
       "1"
      ]
     },
     "execution_count": 23,
     "metadata": {},
     "output_type": "execute_result"
    }
   ],
   "source": [
    "IR.__next__()"
   ]
  },
  {
   "cell_type": "code",
   "execution_count": 24,
   "id": "d2975cb7",
   "metadata": {},
   "outputs": [
    {
     "data": {
      "text/plain": [
       "2"
      ]
     },
     "execution_count": 24,
     "metadata": {},
     "output_type": "execute_result"
    }
   ],
   "source": [
    "next(IR)"
   ]
  },
  {
   "cell_type": "code",
   "execution_count": null,
   "id": "d49708d6",
   "metadata": {},
   "outputs": [],
   "source": []
  }
 ],
 "metadata": {
  "kernelspec": {
   "display_name": "Python 3",
   "language": "python",
   "name": "python3"
  },
  "language_info": {
   "codemirror_mode": {
    "name": "ipython",
    "version": 3
   },
   "file_extension": ".py",
   "mimetype": "text/x-python",
   "name": "python",
   "nbconvert_exporter": "python",
   "pygments_lexer": "ipython3",
   "version": "3.12.3"
  }
 },
 "nbformat": 4,
 "nbformat_minor": 5
}
